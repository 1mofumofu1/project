{
  "cells": [
    {
      "cell_type": "markdown",
      "metadata": {
        "id": "view-in-github",
        "colab_type": "text"
      },
      "source": [
        "<a href=\"https://colab.research.google.com/github/1mofumofu1/project/blob/main/PDF_TO_EXCEL_By_Neuralearn_.ipynb\" target=\"_parent\"><img src=\"https://colab.research.google.com/assets/colab-badge.svg\" alt=\"Open In Colab\"/></a>"
      ]
    },
    {
      "cell_type": "code",
      "source": [
        "from PIL import Image\n",
        "import cv2\n",
        "import numpy as np\n",
        "import pandas as pd\n",
        "import tensorflow as tf"
      ],
      "metadata": {
        "id": "mhEjVUbiUytV"
      },
      "execution_count": 44,
      "outputs": []
    },
    {
      "cell_type": "code",
      "source": [
        "#!pip install paddlepaddle-gpu==2.3.2 cudatoolkit==10.2"
      ],
      "metadata": {
        "id": "JejuCeNXHckg"
      },
      "execution_count": null,
      "outputs": []
    },
    {
      "cell_type": "code",
      "source": [
        "!pip install paddlepaddle-gpu==2.3.0.post110 -f https://www.paddlepaddle.org.cn/whl/linux/mkl/avx/stable.html"
      ],
      "metadata": {
        "colab": {
          "base_uri": "https://localhost:8080/"
        },
        "id": "xWhdOt9Jay6z",
        "outputId": "62f30620-3fa3-4e01-ba61-3c79b52e4466"
      },
      "execution_count": 13,
      "outputs": [
        {
          "output_type": "stream",
          "name": "stdout",
          "text": [
            "Looking in links: https://www.paddlepaddle.org.cn/whl/linux/mkl/avx/stable.html\n",
            "Requirement already satisfied: paddlepaddle-gpu==2.3.0.post110 in /usr/local/lib/python3.10/dist-packages (2.3.0.post110)\n",
            "Requirement already satisfied: requests>=2.20.0 in /usr/local/lib/python3.10/dist-packages (from paddlepaddle-gpu==2.3.0.post110) (2.31.0)\n",
            "Requirement already satisfied: numpy>=1.13 in /usr/local/lib/python3.10/dist-packages (from paddlepaddle-gpu==2.3.0.post110) (1.25.2)\n",
            "Requirement already satisfied: protobuf>=3.1.0 in /usr/local/lib/python3.10/dist-packages (from paddlepaddle-gpu==2.3.0.post110) (5.26.1)\n",
            "Requirement already satisfied: Pillow in /usr/local/lib/python3.10/dist-packages (from paddlepaddle-gpu==2.3.0.post110) (10.0.1)\n",
            "Requirement already satisfied: six in /usr/local/lib/python3.10/dist-packages (from paddlepaddle-gpu==2.3.0.post110) (1.16.0)\n",
            "Requirement already satisfied: decorator in /usr/local/lib/python3.10/dist-packages (from paddlepaddle-gpu==2.3.0.post110) (4.4.2)\n",
            "Requirement already satisfied: astor in /usr/local/lib/python3.10/dist-packages (from paddlepaddle-gpu==2.3.0.post110) (0.8.1)\n",
            "Requirement already satisfied: paddle-bfloat==0.1.2 in /usr/local/lib/python3.10/dist-packages (from paddlepaddle-gpu==2.3.0.post110) (0.1.2)\n",
            "Requirement already satisfied: opt-einsum==3.3.0 in /usr/local/lib/python3.10/dist-packages (from paddlepaddle-gpu==2.3.0.post110) (3.3.0)\n",
            "Requirement already satisfied: charset-normalizer<4,>=2 in /usr/local/lib/python3.10/dist-packages (from requests>=2.20.0->paddlepaddle-gpu==2.3.0.post110) (3.3.2)\n",
            "Requirement already satisfied: idna<4,>=2.5 in /usr/local/lib/python3.10/dist-packages (from requests>=2.20.0->paddlepaddle-gpu==2.3.0.post110) (3.6)\n",
            "Requirement already satisfied: urllib3<3,>=1.21.1 in /usr/local/lib/python3.10/dist-packages (from requests>=2.20.0->paddlepaddle-gpu==2.3.0.post110) (2.0.7)\n",
            "Requirement already satisfied: certifi>=2017.4.17 in /usr/local/lib/python3.10/dist-packages (from requests>=2.20.0->paddlepaddle-gpu==2.3.0.post110) (2024.2.2)\n"
          ]
        }
      ]
    },
    {
      "cell_type": "markdown",
      "metadata": {
        "id": "dvKiMyj2feUe"
      },
      "source": [
        "# pdf2image"
      ]
    },
    {
      "cell_type": "markdown",
      "source": [
        "## Installation"
      ],
      "metadata": {
        "id": "aIz56VvlWkf-"
      }
    },
    {
      "cell_type": "code",
      "source": [
        "!pip install pdf2image\n",
        "!apt-get update\n",
        "!apt-get install poppler-utils"
      ],
      "metadata": {
        "colab": {
          "base_uri": "https://localhost:8080/"
        },
        "id": "biSgyAkWnUD3",
        "outputId": "c66a3141-f4bc-454b-ab68-19ec5d00b875"
      },
      "execution_count": 14,
      "outputs": [
        {
          "output_type": "stream",
          "name": "stdout",
          "text": [
            "Requirement already satisfied: pdf2image in /usr/local/lib/python3.10/dist-packages (1.17.0)\n",
            "Requirement already satisfied: pillow in /usr/local/lib/python3.10/dist-packages (from pdf2image) (10.0.1)\n",
            "Hit:1 https://cloud.r-project.org/bin/linux/ubuntu jammy-cran40/ InRelease\n",
            "Hit:2 http://security.ubuntu.com/ubuntu jammy-security InRelease\n",
            "Hit:3 https://developer.download.nvidia.com/compute/cuda/repos/ubuntu2204/x86_64  InRelease\n",
            "Hit:4 http://archive.ubuntu.com/ubuntu jammy InRelease\n",
            "Get:5 http://archive.ubuntu.com/ubuntu jammy-updates InRelease [119 kB]\n",
            "Hit:6 https://ppa.launchpadcontent.net/c2d4u.team/c2d4u4.0+/ubuntu jammy InRelease\n",
            "Hit:7 https://ppa.launchpadcontent.net/deadsnakes/ppa/ubuntu jammy InRelease\n",
            "Hit:8 https://ppa.launchpadcontent.net/graphics-drivers/ppa/ubuntu jammy InRelease\n",
            "Hit:9 http://archive.ubuntu.com/ubuntu jammy-backports InRelease\n",
            "Hit:10 https://ppa.launchpadcontent.net/ubuntugis/ppa/ubuntu jammy InRelease\n",
            "Fetched 119 kB in 1s (102 kB/s)\n",
            "Reading package lists... Done\n",
            "Reading package lists... Done\n",
            "Building dependency tree... Done\n",
            "Reading state information... Done\n",
            "poppler-utils is already the newest version (22.02.0-2ubuntu0.3).\n",
            "0 upgraded, 0 newly installed, 0 to remove and 49 not upgraded.\n"
          ]
        }
      ]
    },
    {
      "cell_type": "markdown",
      "source": [
        "## Conversion"
      ],
      "metadata": {
        "id": "pLaguCz1WmF9"
      }
    },
    {
      "cell_type": "code",
      "source": [
        "from pdf2image import convert_from_path"
      ],
      "metadata": {
        "id": "HI1dzCGmkeWI"
      },
      "execution_count": null,
      "outputs": []
    },
    {
      "cell_type": "code",
      "source": [
        "images = convert_from_path('/content/test.pdf')"
      ],
      "metadata": {
        "id": "xyhjFgqjkgG7"
      },
      "execution_count": null,
      "outputs": []
    },
    {
      "cell_type": "code",
      "source": [
        "!mkdir pages"
      ],
      "metadata": {
        "id": "M5hBWxpskgJW"
      },
      "execution_count": null,
      "outputs": []
    },
    {
      "cell_type": "code",
      "source": [
        "for i in range(len(images)):\n",
        "  images[i].save('pages/page'+str(i)+'.jpg', 'JPEG')"
      ],
      "metadata": {
        "id": "7mlH9ltkkgMB"
      },
      "execution_count": null,
      "outputs": []
    },
    {
      "cell_type": "markdown",
      "source": [
        "# Layout"
      ],
      "metadata": {
        "id": "Urwb7Q_OZC8t"
      }
    },
    {
      "cell_type": "markdown",
      "source": [
        "## Installation"
      ],
      "metadata": {
        "id": "vTkwQbF4FZPN"
      }
    },
    {
      "cell_type": "code",
      "source": [
        "#!python3 -m pip install paddlepaddle-gpu\n",
        "!pip install \"paddleocr>=2.0.1\"\n",
        "!pip install protobuf==3.20.0\n",
        "!git clone https://github.com/PaddlePaddle/PaddleOCR.git"
      ],
      "metadata": {
        "colab": {
          "base_uri": "https://localhost:8080/"
        },
        "id": "R0lRpQLkIpbZ",
        "outputId": "d92d646c-26bd-452b-839f-1e99dce14bd9"
      },
      "execution_count": 1,
      "outputs": [
        {
          "output_type": "stream",
          "name": "stdout",
          "text": [
            "Requirement already satisfied: paddleocr>=2.0.1 in /usr/local/lib/python3.10/dist-packages (2.7.3)\n",
            "Requirement already satisfied: shapely in /usr/local/lib/python3.10/dist-packages (from paddleocr>=2.0.1) (2.0.3)\n",
            "Requirement already satisfied: scikit-image in /usr/local/lib/python3.10/dist-packages (from paddleocr>=2.0.1) (0.19.3)\n",
            "Requirement already satisfied: imgaug in /usr/local/lib/python3.10/dist-packages (from paddleocr>=2.0.1) (0.4.0)\n",
            "Requirement already satisfied: pyclipper in /usr/local/lib/python3.10/dist-packages (from paddleocr>=2.0.1) (1.3.0.post5)\n",
            "Requirement already satisfied: lmdb in /usr/local/lib/python3.10/dist-packages (from paddleocr>=2.0.1) (1.4.1)\n",
            "Requirement already satisfied: tqdm in /usr/local/lib/python3.10/dist-packages (from paddleocr>=2.0.1) (4.66.2)\n",
            "Requirement already satisfied: numpy in /usr/local/lib/python3.10/dist-packages (from paddleocr>=2.0.1) (1.25.2)\n",
            "Requirement already satisfied: visualdl in /usr/local/lib/python3.10/dist-packages (from paddleocr>=2.0.1) (2.5.3)\n",
            "Requirement already satisfied: rapidfuzz in /usr/local/lib/python3.10/dist-packages (from paddleocr>=2.0.1) (3.7.0)\n",
            "Requirement already satisfied: opencv-python<=4.6.0.66 in /usr/local/lib/python3.10/dist-packages (from paddleocr>=2.0.1) (4.6.0.66)\n",
            "Requirement already satisfied: opencv-contrib-python<=4.6.0.66 in /usr/local/lib/python3.10/dist-packages (from paddleocr>=2.0.1) (4.6.0.66)\n",
            "Requirement already satisfied: cython in /usr/local/lib/python3.10/dist-packages (from paddleocr>=2.0.1) (3.0.9)\n",
            "Requirement already satisfied: lxml in /usr/local/lib/python3.10/dist-packages (from paddleocr>=2.0.1) (4.9.4)\n",
            "Requirement already satisfied: premailer in /usr/local/lib/python3.10/dist-packages (from paddleocr>=2.0.1) (3.10.0)\n",
            "Requirement already satisfied: openpyxl in /usr/local/lib/python3.10/dist-packages (from paddleocr>=2.0.1) (3.1.2)\n",
            "Requirement already satisfied: attrdict in /usr/local/lib/python3.10/dist-packages (from paddleocr>=2.0.1) (2.0.1)\n",
            "Requirement already satisfied: Pillow>=10.0.0 in /usr/local/lib/python3.10/dist-packages (from paddleocr>=2.0.1) (10.0.1)\n",
            "Requirement already satisfied: pyyaml in /usr/local/lib/python3.10/dist-packages (from paddleocr>=2.0.1) (6.0.1)\n",
            "Requirement already satisfied: python-docx in /usr/local/lib/python3.10/dist-packages (from paddleocr>=2.0.1) (1.1.0)\n",
            "Requirement already satisfied: beautifulsoup4 in /usr/local/lib/python3.10/dist-packages (from paddleocr>=2.0.1) (4.12.3)\n",
            "Requirement already satisfied: fonttools>=4.24.0 in /usr/local/lib/python3.10/dist-packages (from paddleocr>=2.0.1) (4.50.0)\n",
            "Requirement already satisfied: fire>=0.3.0 in /usr/local/lib/python3.10/dist-packages (from paddleocr>=2.0.1) (0.6.0)\n",
            "Requirement already satisfied: pdf2docx in /usr/local/lib/python3.10/dist-packages (from paddleocr>=2.0.1) (0.5.8)\n",
            "Requirement already satisfied: six in /usr/local/lib/python3.10/dist-packages (from fire>=0.3.0->paddleocr>=2.0.1) (1.16.0)\n",
            "Requirement already satisfied: termcolor in /usr/local/lib/python3.10/dist-packages (from fire>=0.3.0->paddleocr>=2.0.1) (2.4.0)\n",
            "Requirement already satisfied: soupsieve>1.2 in /usr/local/lib/python3.10/dist-packages (from beautifulsoup4->paddleocr>=2.0.1) (2.5)\n",
            "Requirement already satisfied: scipy in /usr/local/lib/python3.10/dist-packages (from imgaug->paddleocr>=2.0.1) (1.11.4)\n",
            "Requirement already satisfied: matplotlib in /usr/local/lib/python3.10/dist-packages (from imgaug->paddleocr>=2.0.1) (3.7.1)\n",
            "Requirement already satisfied: imageio in /usr/local/lib/python3.10/dist-packages (from imgaug->paddleocr>=2.0.1) (2.31.6)\n",
            "Requirement already satisfied: networkx>=2.2 in /usr/local/lib/python3.10/dist-packages (from scikit-image->paddleocr>=2.0.1) (3.2.1)\n",
            "Requirement already satisfied: tifffile>=2019.7.26 in /usr/local/lib/python3.10/dist-packages (from scikit-image->paddleocr>=2.0.1) (2024.2.12)\n",
            "Requirement already satisfied: PyWavelets>=1.1.1 in /usr/local/lib/python3.10/dist-packages (from scikit-image->paddleocr>=2.0.1) (1.5.0)\n",
            "Requirement already satisfied: packaging>=20.0 in /usr/local/lib/python3.10/dist-packages (from scikit-image->paddleocr>=2.0.1) (24.0)\n",
            "Requirement already satisfied: et-xmlfile in /usr/local/lib/python3.10/dist-packages (from openpyxl->paddleocr>=2.0.1) (1.1.0)\n",
            "Requirement already satisfied: PyMuPDF>=1.19.0 in /usr/local/lib/python3.10/dist-packages (from pdf2docx->paddleocr>=2.0.1) (1.24.0)\n",
            "Requirement already satisfied: opencv-python-headless>=4.5 in /usr/local/lib/python3.10/dist-packages (from pdf2docx->paddleocr>=2.0.1) (4.9.0.80)\n",
            "Requirement already satisfied: typing-extensions in /usr/local/lib/python3.10/dist-packages (from python-docx->paddleocr>=2.0.1) (4.10.0)\n",
            "Requirement already satisfied: cssselect in /usr/local/lib/python3.10/dist-packages (from premailer->paddleocr>=2.0.1) (1.2.0)\n",
            "Requirement already satisfied: cssutils in /usr/local/lib/python3.10/dist-packages (from premailer->paddleocr>=2.0.1) (2.10.2)\n",
            "Requirement already satisfied: requests in /usr/local/lib/python3.10/dist-packages (from premailer->paddleocr>=2.0.1) (2.31.0)\n",
            "Requirement already satisfied: cachetools in /usr/local/lib/python3.10/dist-packages (from premailer->paddleocr>=2.0.1) (5.3.3)\n",
            "Requirement already satisfied: bce-python-sdk in /usr/local/lib/python3.10/dist-packages (from visualdl->paddleocr>=2.0.1) (0.9.6)\n",
            "Requirement already satisfied: flask>=1.1.1 in /usr/local/lib/python3.10/dist-packages (from visualdl->paddleocr>=2.0.1) (2.2.5)\n",
            "Requirement already satisfied: Flask-Babel>=3.0.0 in /usr/local/lib/python3.10/dist-packages (from visualdl->paddleocr>=2.0.1) (4.0.0)\n",
            "Requirement already satisfied: protobuf>=3.20.0 in /usr/local/lib/python3.10/dist-packages (from visualdl->paddleocr>=2.0.1) (3.20.0)\n",
            "Requirement already satisfied: pandas in /usr/local/lib/python3.10/dist-packages (from visualdl->paddleocr>=2.0.1) (1.5.3)\n",
            "Requirement already satisfied: rarfile in /usr/local/lib/python3.10/dist-packages (from visualdl->paddleocr>=2.0.1) (4.1)\n",
            "Requirement already satisfied: psutil in /usr/local/lib/python3.10/dist-packages (from visualdl->paddleocr>=2.0.1) (5.9.5)\n",
            "Requirement already satisfied: Werkzeug>=2.2.2 in /usr/local/lib/python3.10/dist-packages (from flask>=1.1.1->visualdl->paddleocr>=2.0.1) (3.0.1)\n",
            "Requirement already satisfied: Jinja2>=3.0 in /usr/local/lib/python3.10/dist-packages (from flask>=1.1.1->visualdl->paddleocr>=2.0.1) (3.1.3)\n",
            "Requirement already satisfied: itsdangerous>=2.0 in /usr/local/lib/python3.10/dist-packages (from flask>=1.1.1->visualdl->paddleocr>=2.0.1) (2.1.2)\n",
            "Requirement already satisfied: click>=8.0 in /usr/local/lib/python3.10/dist-packages (from flask>=1.1.1->visualdl->paddleocr>=2.0.1) (8.1.7)\n",
            "Requirement already satisfied: Babel>=2.12 in /usr/local/lib/python3.10/dist-packages (from Flask-Babel>=3.0.0->visualdl->paddleocr>=2.0.1) (2.14.0)\n",
            "Requirement already satisfied: pytz>=2022.7 in /usr/local/lib/python3.10/dist-packages (from Flask-Babel>=3.0.0->visualdl->paddleocr>=2.0.1) (2023.4)\n",
            "Requirement already satisfied: PyMuPDFb==1.24.0 in /usr/local/lib/python3.10/dist-packages (from PyMuPDF>=1.19.0->pdf2docx->paddleocr>=2.0.1) (1.24.0)\n",
            "Requirement already satisfied: pycryptodome>=3.8.0 in /usr/local/lib/python3.10/dist-packages (from bce-python-sdk->visualdl->paddleocr>=2.0.1) (3.20.0)\n",
            "Requirement already satisfied: future>=0.6.0 in /usr/local/lib/python3.10/dist-packages (from bce-python-sdk->visualdl->paddleocr>=2.0.1) (0.18.3)\n",
            "Requirement already satisfied: contourpy>=1.0.1 in /usr/local/lib/python3.10/dist-packages (from matplotlib->imgaug->paddleocr>=2.0.1) (1.2.0)\n",
            "Requirement already satisfied: cycler>=0.10 in /usr/local/lib/python3.10/dist-packages (from matplotlib->imgaug->paddleocr>=2.0.1) (0.12.1)\n",
            "Requirement already satisfied: kiwisolver>=1.0.1 in /usr/local/lib/python3.10/dist-packages (from matplotlib->imgaug->paddleocr>=2.0.1) (1.4.5)\n",
            "Requirement already satisfied: pyparsing>=2.3.1 in /usr/local/lib/python3.10/dist-packages (from matplotlib->imgaug->paddleocr>=2.0.1) (3.1.2)\n",
            "Requirement already satisfied: python-dateutil>=2.7 in /usr/local/lib/python3.10/dist-packages (from matplotlib->imgaug->paddleocr>=2.0.1) (2.8.2)\n",
            "Requirement already satisfied: charset-normalizer<4,>=2 in /usr/local/lib/python3.10/dist-packages (from requests->premailer->paddleocr>=2.0.1) (3.3.2)\n",
            "Requirement already satisfied: idna<4,>=2.5 in /usr/local/lib/python3.10/dist-packages (from requests->premailer->paddleocr>=2.0.1) (3.6)\n",
            "Requirement already satisfied: urllib3<3,>=1.21.1 in /usr/local/lib/python3.10/dist-packages (from requests->premailer->paddleocr>=2.0.1) (2.0.7)\n",
            "Requirement already satisfied: certifi>=2017.4.17 in /usr/local/lib/python3.10/dist-packages (from requests->premailer->paddleocr>=2.0.1) (2024.2.2)\n",
            "Requirement already satisfied: MarkupSafe>=2.0 in /usr/local/lib/python3.10/dist-packages (from Jinja2>=3.0->flask>=1.1.1->visualdl->paddleocr>=2.0.1) (2.1.5)\n",
            "Requirement already satisfied: protobuf==3.20.0 in /usr/local/lib/python3.10/dist-packages (3.20.0)\n",
            "fatal: destination path 'PaddleOCR' already exists and is not an empty directory.\n"
          ]
        }
      ]
    },
    {
      "cell_type": "code",
      "source": [
        "a=5"
      ],
      "metadata": {
        "id": "IXEKTAa2_10K"
      },
      "execution_count": 4,
      "outputs": []
    },
    {
      "cell_type": "code",
      "source": [
        "!wget https://paddleocr.bj.bcebos.com/whl/layoutparser-0.0.0-py3-none-any.whl\n",
        "!pip install -U layoutparser-0.0.0-py3-none-any.whl"
      ],
      "metadata": {
        "colab": {
          "base_uri": "https://localhost:8080/"
        },
        "id": "8gWFgGl5CXu6",
        "outputId": "e66bc1e8-25a8-4e11-cf62-09c3f64ba213"
      },
      "execution_count": 2,
      "outputs": [
        {
          "output_type": "stream",
          "name": "stdout",
          "text": [
            "--2024-04-01 05:41:28--  https://paddleocr.bj.bcebos.com/whl/layoutparser-0.0.0-py3-none-any.whl\n",
            "Resolving paddleocr.bj.bcebos.com (paddleocr.bj.bcebos.com)... 103.235.46.61, 2409:8c04:1001:1203:0:ff:b0bb:4f27\n",
            "Connecting to paddleocr.bj.bcebos.com (paddleocr.bj.bcebos.com)|103.235.46.61|:443... connected.\n",
            "HTTP request sent, awaiting response... 200 OK\n",
            "Length: 19145360 (18M) [application/octet-stream]\n",
            "Saving to: ‘layoutparser-0.0.0-py3-none-any.whl.2’\n",
            "\n",
            "layoutparser-0.0.0- 100%[===================>]  18.26M  4.90MB/s    in 18s     \n",
            "\n",
            "2024-04-01 05:41:48 (1.01 MB/s) - ‘layoutparser-0.0.0-py3-none-any.whl.2’ saved [19145360/19145360]\n",
            "\n",
            "Processing ./layoutparser-0.0.0-py3-none-any.whl\n",
            "Requirement already satisfied: numpy in /usr/local/lib/python3.10/dist-packages (from layoutparser==0.0.0) (1.25.2)\n",
            "Requirement already satisfied: opencv-python in /usr/local/lib/python3.10/dist-packages (from layoutparser==0.0.0) (4.6.0.66)\n",
            "Requirement already satisfied: pandas in /usr/local/lib/python3.10/dist-packages (from layoutparser==0.0.0) (1.5.3)\n",
            "Requirement already satisfied: pillow in /usr/local/lib/python3.10/dist-packages (from layoutparser==0.0.0) (10.0.1)\n",
            "Requirement already satisfied: pyyaml>=5.1 in /usr/local/lib/python3.10/dist-packages (from layoutparser==0.0.0) (6.0.1)\n",
            "Requirement already satisfied: iopath in /usr/local/lib/python3.10/dist-packages (from layoutparser==0.0.0) (0.1.10)\n",
            "Requirement already satisfied: tqdm in /usr/local/lib/python3.10/dist-packages (from layoutparser==0.0.0) (4.66.2)\n",
            "Requirement already satisfied: typing-extensions in /usr/local/lib/python3.10/dist-packages (from iopath->layoutparser==0.0.0) (4.10.0)\n",
            "Requirement already satisfied: portalocker in /usr/local/lib/python3.10/dist-packages (from iopath->layoutparser==0.0.0) (2.8.2)\n",
            "Requirement already satisfied: python-dateutil>=2.8.1 in /usr/local/lib/python3.10/dist-packages (from pandas->layoutparser==0.0.0) (2.8.2)\n",
            "Requirement already satisfied: pytz>=2020.1 in /usr/local/lib/python3.10/dist-packages (from pandas->layoutparser==0.0.0) (2023.4)\n",
            "Requirement already satisfied: six>=1.5 in /usr/local/lib/python3.10/dist-packages (from python-dateutil>=2.8.1->pandas->layoutparser==0.0.0) (1.16.0)\n",
            "layoutparser is already installed with the same version as the provided wheel. Use --force-reinstall to force an installation of the wheel.\n"
          ]
        }
      ]
    },
    {
      "cell_type": "markdown",
      "source": [
        "## Table Extraction"
      ],
      "metadata": {
        "id": "w5MA08E0F8aU"
      }
    },
    {
      "cell_type": "code",
      "source": [
        "\n",
        "!pip uninstall layoutparser"
      ],
      "metadata": {
        "id": "DRDz1xdqKZo5",
        "outputId": "48b7f8a9-7b48-48a4-ece0-c050a3a20410",
        "colab": {
          "base_uri": "https://localhost:8080/"
        }
      },
      "execution_count": 12,
      "outputs": [
        {
          "output_type": "stream",
          "name": "stdout",
          "text": [
            "Found existing installation: layoutparser 0.3.4\n",
            "Uninstalling layoutparser-0.3.4:\n",
            "  Would remove:\n",
            "    /usr/local/lib/python3.10/dist-packages/layoutparser-0.3.4.dist-info/*\n",
            "    /usr/local/lib/python3.10/dist-packages/layoutparser/*\n",
            "Proceed (Y/n)? Y\n",
            "  Successfully uninstalled layoutparser-0.3.4\n"
          ]
        }
      ]
    },
    {
      "cell_type": "code",
      "source": [
        "import cv2\n",
        "import layoutparser as lp\n",
        "image = cv2.imread(\"/content/pages/page14.jpg\")\n",
        "\n",
        "image = image[..., ::-1]\n",
        "\n",
        "# load model\n",
        "model = lp.PaddleDetectionLayoutModel(config_path=\"lp://PubLayNet/ppyolov2_r50vd_dcn_365e_publaynet/config\",\n",
        "                                threshold=0.5,\n",
        "                                label_map={0: \"Text\", 1: \"Title\", 2: \"List\", 3:\"Table\", 4:\"Figure\"},\n",
        "                                enforce_cpu=False,\n",
        "                                enable_mkldnn=True)#math kernel library\n",
        "# detect\n",
        "layout = model.detect(image)"
      ],
      "metadata": {
        "id": "bw9SFYnMCX0E"
      },
      "execution_count": 26,
      "outputs": []
    },
    {
      "cell_type": "code",
      "source": [
        "layout"
      ],
      "metadata": {
        "id": "G76oO2WXCX6v",
        "colab": {
          "base_uri": "https://localhost:8080/"
        },
        "outputId": "029b6545-15af-40de-bc86-ef8d2fdba9a2"
      },
      "execution_count": 27,
      "outputs": [
        {
          "output_type": "execute_result",
          "data": {
            "text/plain": [
              "Layout(_blocks=[TextBlock(block=Rectangle(x_1=849.2144775390625, y_1=182.25164794921875, x_2=1552.0179443359375, y_2=767.7262573242188), text=None, id=None, type=Text, parent=None, next=None, score=0.9796910285949707), TextBlock(block=Rectangle(x_1=136.03067016601562, y_1=181.22137451171875, x_2=805.658935546875, y_2=938.2108764648438), text=None, id=None, type=List, parent=None, next=None, score=0.9715542793273926), TextBlock(block=Rectangle(x_1=105.449462890625, y_1=1036.938720703125, x_2=801.5697021484375, y_2=1092.966064453125), text=None, id=None, type=Text, parent=None, next=None, score=0.9526569843292236), TextBlock(block=Rectangle(x_1=103.62726593017578, y_1=981.725341796875, x_2=335.8999328613281, y_2=1007.0205078125), text=None, id=None, type=Title, parent=None, next=None, score=0.9222990870475769), TextBlock(block=Rectangle(x_1=102.9405746459961, y_1=1121.4371337890625, x_2=166.167236328125, y_2=1143.9862060546875), text=None, id=None, type=Title, parent=None, next=None, score=0.9169721007347107), TextBlock(block=Rectangle(x_1=104.92840576171875, y_1=1146.960693359375, x_2=496.79779052734375, y_2=1169.894775390625), text=None, id=None, type=Text, parent=None, next=None, score=0.9156838059425354), TextBlock(block=Rectangle(x_1=102.80935668945312, y_1=1536.3914794921875, x_2=488.6001281738281, y_2=1559.0787353515625), text=None, id=None, type=Text, parent=None, next=None, score=0.8981724977493286), TextBlock(block=Rectangle(x_1=102.72122192382812, y_1=1513.599609375, x_2=165.5052490234375, y_2=1535.599853515625), text=None, id=None, type=Title, parent=None, next=None, score=0.8960145711898804), TextBlock(block=Rectangle(x_1=103.75274658203125, y_1=1179.451416015625, x_2=1545.55908203125, y_2=1469.889892578125), text=None, id=None, type=Table, parent=None, next=None, score=0.8916193246841431), TextBlock(block=Rectangle(x_1=117.8023681640625, y_1=1568.660400390625, x_2=1536.4342041015625, y_2=2095.7470703125), text=None, id=None, type=Table, parent=None, next=None, score=0.866544783115387)], page_data={})"
            ]
          },
          "metadata": {},
          "execution_count": 27
        }
      ]
    },
    {
      "cell_type": "code",
      "source": [
        "x_1=0\n",
        "y_1=0\n",
        "x_2=0\n",
        "y_2=0\n",
        "\n",
        "for l in layout:\n",
        "  #print(l)\n",
        "  if l.type == 'Table':\n",
        "    x_1 = int(l.block.x_1)\n",
        "    print(l.block.x_1)\n",
        "    y_1 = int(l.block.y_1)\n",
        "    x_2 = int(l.block.x_2)\n",
        "    y_2 = int(l.block.y_2)\n",
        "\n",
        "    break"
      ],
      "metadata": {
        "id": "y3h0kCz-CX_U",
        "colab": {
          "base_uri": "https://localhost:8080/"
        },
        "outputId": "41c811f7-4147-41d7-e1e9-7d2ae18d4040"
      },
      "execution_count": 28,
      "outputs": [
        {
          "output_type": "stream",
          "name": "stdout",
          "text": [
            "103.75275\n"
          ]
        }
      ]
    },
    {
      "cell_type": "code",
      "source": [
        "print(x_1,y_1,x_2,y_2)"
      ],
      "metadata": {
        "id": "cdiYPeCJCYIg",
        "colab": {
          "base_uri": "https://localhost:8080/"
        },
        "outputId": "79653a22-9cbb-4b4d-9201-b0951a4dfd82"
      },
      "execution_count": 29,
      "outputs": [
        {
          "output_type": "stream",
          "name": "stdout",
          "text": [
            "103 1179 1545 1469\n"
          ]
        }
      ]
    },
    {
      "cell_type": "code",
      "source": [
        "im = cv2.imread('/content/pages/page14.jpg')"
      ],
      "metadata": {
        "id": "F39kJV3hCYLV"
      },
      "execution_count": 30,
      "outputs": []
    },
    {
      "cell_type": "code",
      "source": [
        "cv2.imwrite('ext_im.jpg', im[y_1:y_2,x_1:x_2])"
      ],
      "metadata": {
        "id": "EQDXSNijCYPs",
        "colab": {
          "base_uri": "https://localhost:8080/"
        },
        "outputId": "52d55acc-943e-4a3e-f4c5-f074282177ae"
      },
      "execution_count": 31,
      "outputs": [
        {
          "output_type": "execute_result",
          "data": {
            "text/plain": [
              "True"
            ]
          },
          "metadata": {},
          "execution_count": 31
        }
      ]
    },
    {
      "cell_type": "markdown",
      "metadata": {
        "id": "EGwGhHnd8i_h"
      },
      "source": [
        "# Text Detection and Recognition"
      ]
    },
    {
      "cell_type": "code",
      "source": [
        "from paddleocr import PaddleOCR, draw_ocr"
      ],
      "metadata": {
        "id": "N6WQZXhLLDWk"
      },
      "execution_count": 33,
      "outputs": []
    },
    {
      "cell_type": "code",
      "source": [
        "ocr = PaddleOCR(lang='en')\n",
        "image_path = '/content/ext_im.jpg'\n",
        "image_cv = cv2.imread(image_path)\n",
        "image_height = image_cv.shape[0]\n",
        "image_width = image_cv.shape[1]\n",
        "output = ocr.ocr(image_path)[0]"
      ],
      "metadata": {
        "colab": {
          "base_uri": "https://localhost:8080/"
        },
        "id": "A8bCZ9AULDZF",
        "outputId": "012ba6ef-46ac-4855-c2c0-3ee358d6079c"
      },
      "execution_count": 34,
      "outputs": [
        {
          "output_type": "stream",
          "name": "stdout",
          "text": [
            "[2024/04/01 06:58:00] ppocr DEBUG: Namespace(help='==SUPPRESS==', use_gpu=False, use_xpu=False, use_npu=False, ir_optim=True, use_tensorrt=False, min_subgraph_size=15, precision='fp32', gpu_mem=500, gpu_id=0, image_dir=None, page_num=0, det_algorithm='DB', det_model_dir='/root/.paddleocr/whl/det/en/en_PP-OCRv3_det_infer', det_limit_side_len=960, det_limit_type='max', det_box_type='quad', det_db_thresh=0.3, det_db_box_thresh=0.6, det_db_unclip_ratio=1.5, max_batch_size=10, use_dilation=False, det_db_score_mode='fast', det_east_score_thresh=0.8, det_east_cover_thresh=0.1, det_east_nms_thresh=0.2, det_sast_score_thresh=0.5, det_sast_nms_thresh=0.2, det_pse_thresh=0, det_pse_box_thresh=0.85, det_pse_min_area=16, det_pse_scale=1, scales=[8, 16, 32], alpha=1.0, beta=1.0, fourier_degree=5, rec_algorithm='SVTR_LCNet', rec_model_dir='/root/.paddleocr/whl/rec/en/en_PP-OCRv4_rec_infer', rec_image_inverse=True, rec_image_shape='3, 48, 320', rec_batch_num=6, max_text_length=25, rec_char_dict_path='/usr/local/lib/python3.10/dist-packages/paddleocr/ppocr/utils/en_dict.txt', use_space_char=True, vis_font_path='./doc/fonts/simfang.ttf', drop_score=0.5, e2e_algorithm='PGNet', e2e_model_dir=None, e2e_limit_side_len=768, e2e_limit_type='max', e2e_pgnet_score_thresh=0.5, e2e_char_dict_path='./ppocr/utils/ic15_dict.txt', e2e_pgnet_valid_set='totaltext', e2e_pgnet_mode='fast', use_angle_cls=False, cls_model_dir='/root/.paddleocr/whl/cls/ch_ppocr_mobile_v2.0_cls_infer', cls_image_shape='3, 48, 192', label_list=['0', '180'], cls_batch_num=6, cls_thresh=0.9, enable_mkldnn=False, cpu_threads=10, use_pdserving=False, warmup=False, sr_model_dir=None, sr_image_shape='3, 32, 128', sr_batch_num=1, draw_img_save_dir='./inference_results', save_crop_res=False, crop_res_save_dir='./output', use_mp=False, total_process_num=1, process_id=0, benchmark=False, save_log_path='./log_output/', show_log=True, use_onnx=False, output='./output', table_max_len=488, table_algorithm='TableAttn', table_model_dir=None, merge_no_span_structure=True, table_char_dict_path=None, layout_model_dir=None, layout_dict_path=None, layout_score_threshold=0.5, layout_nms_threshold=0.5, kie_algorithm='LayoutXLM', ser_model_dir=None, re_model_dir=None, use_visual_backbone=True, ser_dict_path='../train_data/XFUND/class_list_xfun.txt', ocr_order_method=None, mode='structure', image_orientation=False, layout=True, table=True, ocr=True, recovery=False, use_pdf2docx_api=False, invert=False, binarize=False, alphacolor=(255, 255, 255), lang='en', det=True, rec=True, type='ocr', ocr_version='PP-OCRv4', structure_version='PP-StructureV2')\n",
            "[2024/04/01 06:58:01] ppocr WARNING: Since the angle classifier is not initialized, it will not be used during the forward process\n",
            "[2024/04/01 06:58:01] ppocr DEBUG: dt_boxes num : 39, elapsed : 0.08669304847717285\n",
            "[2024/04/01 06:58:02] ppocr DEBUG: rec_res num  : 39, elapsed : 1.606844186782837\n"
          ]
        }
      ]
    },
    {
      "cell_type": "code",
      "source": [
        "print(output)"
      ],
      "metadata": {
        "colab": {
          "base_uri": "https://localhost:8080/"
        },
        "id": "VBIDZA0XLDeA",
        "outputId": "70ec62d3-7939-4277-d9a5-a85f6796c504"
      },
      "execution_count": 35,
      "outputs": [
        {
          "output_type": "stream",
          "name": "stdout",
          "text": [
            "[[[[22.0, 4.0], [120.0, 8.0], [120.0, 34.0], [21.0, 30.0]], ('References', 0.9957192540168762)], [[[427.0, 8.0], [470.0, 8.0], [470.0, 32.0], [427.0, 32.0]], ('MSE', 0.9979258179664612)], [[[664.0, 9.0], [718.0, 9.0], [718.0, 32.0], [664.0, 32.0]], ('RMSE', 0.9967516660690308)], [[[898.0, 8.0], [948.0, 8.0], [948.0, 33.0], [898.0, 33.0]], ('MAE', 0.9972245097160339)], [[[1134.0, 6.0], [1194.0, 6.0], [1194.0, 33.0], [1134.0, 33.0]], ('MAPE', 0.9948724508285522)], [[[1370.0, 3.0], [1401.0, 3.0], [1401.0, 35.0], [1370.0, 35.0]], ('R2', 0.9919352531433105)], [[[24.0, 45.0], [192.0, 45.0], [192.0, 66.0], [24.0, 66.0]], ('Nayak et al.,2012', 0.9597781896591187)], [[[1136.0, 44.0], [1199.0, 44.0], [1199.0, 66.0], [1136.0, 66.0]], ('4.4130', 0.9988265037536621)], [[[24.0, 69.0], [167.0, 69.0], [167.0, 91.0], [24.0, 91.0]], ('Liu et al.2018', 0.971381664276123)], [[[428.0, 68.0], [490.0, 68.0], [490.0, 91.0], [428.0, 91.0]], ('1.0600', 0.9987771511077881)], [[[664.0, 68.0], [726.0, 68.0], [726.0, 91.0], [664.0, 91.0]], ('1.0296', 0.9994805455207825)], [[[1371.0, 65.0], [1416.0, 65.0], [1416.0, 94.0], [1371.0, 94.0]], ('99.6', 0.9843631386756897)], [[[24.0, 94.0], [216.0, 94.0], [216.0, 113.0], [24.0, 113.0]], ('Abhishek et al.2012', 0.9853584170341492)], [[[427.0, 92.0], [490.0, 92.0], [490.0, 115.0], [427.0, 115.0]], ('2.7100', 0.9994074702262878)], [[[664.0, 92.0], [727.0, 92.0], [727.0, 115.0], [664.0, 115.0]], ('1.6460', 0.9988245368003845)], [[[24.0, 116.0], [251.0, 116.0], [251.0, 137.0], [24.0, 137.0]], ('(Suksri and Kimpan,2016)', 0.9260132312774658)], [[[427.0, 116.0], [490.0, 116.0], [490.0, 139.0], [427.0, 139.0]], ('0.0212', 0.9992675185203552)], [[[664.0, 116.0], [727.0, 116.0], [727.0, 139.0], [664.0, 139.0]], ('0.1476', 0.9981986880302429)], [[[21.0, 137.0], [164.0, 137.0], [164.0, 163.0], [21.0, 163.0]], ('Yu et al.2016', 0.9617916345596313)], [[[427.0, 140.0], [488.0, 140.0], [488.0, 162.0], [427.0, 162.0]], ('0.0281', 0.9992658495903015)], [[[663.0, 136.0], [728.0, 139.0], [726.0, 165.0], [662.0, 161.0]], ('0.1676', 0.9983530640602112)], [[[898.0, 137.0], [964.0, 137.0], [964.0, 165.0], [898.0, 165.0]], ('0.1062', 0.9965610504150391)], [[[1136.0, 139.0], [1199.0, 139.0], [1199.0, 162.0], [1136.0, 162.0]], ('0.0279', 0.9988730549812317)], [[[23.0, 163.0], [182.0, 163.0], [182.0, 184.0], [23.0, 184.0]], ('Rasel et al.2017', 0.9728622436523438)], [[[428.0, 163.0], [490.0, 163.0], [490.0, 186.0], [428.0, 186.0]], ('10.956', 0.9986926913261414)], [[[664.0, 163.0], [727.0, 163.0], [727.0, 186.0], [664.0, 186.0]], ('3.3100', 0.9966986775398254)], [[[900.0, 163.0], [963.0, 163.0], [963.0, 186.0], [900.0, 186.0]], ('2.2900', 0.9990841746330261)], [[[23.0, 187.0], [153.0, 187.0], [153.0, 208.0], [23.0, 208.0]], ('Ahmed,2015', 0.9629036784172058)], [[[1373.0, 187.0], [1425.0, 187.0], [1425.0, 210.0], [1373.0, 210.0]], ('93.36', 0.9976904988288879)], [[[23.0, 211.0], [245.0, 211.0], [245.0, 233.0], [23.0, 233.0]], ('Mohammadi et al.,2015', 0.9588028192520142)], [[[427.0, 211.0], [488.0, 211.0], [488.0, 234.0], [427.0, 234.0]], ('0.4501', 0.9985278248786926)], [[[660.0, 210.0], [726.0, 206.0], [728.0, 234.0], [662.0, 238.0]], ('0.6709', 0.9995532035827637)], [[[1136.0, 208.0], [1200.0, 208.0], [1200.0, 236.0], [1136.0, 236.0]], ('0.5203', 0.9989586472511292)], [[[1373.0, 211.0], [1424.0, 211.0], [1424.0, 234.0], [1373.0, 234.0]], ('98.77', 0.9989292025566101)], [[[23.0, 236.0], [206.0, 236.0], [206.0, 257.0], [23.0, 257.0]], ('Hossain et al.,2015', 0.9541664123535156)], [[[428.0, 234.0], [490.0, 234.0], [490.0, 257.0], [428.0, 257.0]], ('1.9044', 0.9991021156311035)], [[[664.0, 234.0], [727.0, 234.0], [727.0, 257.0], [664.0, 257.0]], ('1.3800', 0.9987491965293884)], [[[21.0, 255.0], [167.0, 255.0], [167.0, 281.0], [21.0, 281.0]], ('Liu et al.2015', 0.9639903903007507)], [[[1371.0, 257.0], [1427.0, 257.0], [1427.0, 284.0], [1371.0, 284.0]], ('91.50', 0.9991904497146606)]]\n"
          ]
        }
      ]
    },
    {
      "cell_type": "code",
      "source": [
        "boxes = [line[0] for line in output]\n",
        "texts = [line[1][0] for line in output]\n",
        "probabilities = [line[1][1] for line in output]"
      ],
      "metadata": {
        "id": "nNMBAQ78LDgG"
      },
      "execution_count": 36,
      "outputs": []
    },
    {
      "cell_type": "code",
      "source": [
        "image_boxes = image_cv.copy()\n"
      ],
      "metadata": {
        "id": "uukcg4SWV_dg"
      },
      "execution_count": 37,
      "outputs": []
    },
    {
      "cell_type": "code",
      "source": [
        "for box,text in zip(boxes,texts):\n",
        "  cv2.rectangle(image_boxes, (int(box[0][0]),int(box[0][1])), (int(box[2][0]),int(box[2][1])),(0,0,255),1)\n",
        "  cv2.putText(image_boxes, text,(int(box[0][0]),int(box[0][1])),cv2.FONT_HERSHEY_SIMPLEX,1,(222,0,0),1)"
      ],
      "metadata": {
        "id": "l_HzbiA7V_fw"
      },
      "execution_count": 38,
      "outputs": []
    },
    {
      "cell_type": "code",
      "source": [
        "cv2.imwrite('detections.jpg', image_boxes)"
      ],
      "metadata": {
        "colab": {
          "base_uri": "https://localhost:8080/"
        },
        "id": "PfUG9mcgV_iJ",
        "outputId": "8d88c897-02b9-406d-f2a0-7908e963bc3b"
      },
      "execution_count": 39,
      "outputs": [
        {
          "output_type": "execute_result",
          "data": {
            "text/plain": [
              "True"
            ]
          },
          "metadata": {},
          "execution_count": 39
        }
      ]
    },
    {
      "cell_type": "markdown",
      "metadata": {
        "id": "kYWt0lzDHZNp"
      },
      "source": [
        "# Reconstruction"
      ]
    },
    {
      "cell_type": "markdown",
      "source": [
        "## Get Horizontal and Vertical Lines"
      ],
      "metadata": {
        "id": "ruzifYJz4H6y"
      }
    },
    {
      "cell_type": "code",
      "source": [
        "im = image_cv.copy()"
      ],
      "metadata": {
        "id": "YLIoKedcqby_"
      },
      "execution_count": 40,
      "outputs": []
    },
    {
      "cell_type": "code",
      "source": [
        "horiz_boxes = []\n",
        "vert_boxes = []\n",
        "\n",
        "for box in boxes:\n",
        "  x_h, x_v = 0,int(box[0][0])\n",
        "  y_h, y_v = int(box[0][1]),0\n",
        "  width_h,width_v = image_width, int(box[2][0]-box[0][0])\n",
        "  height_h,height_v = int(box[2][1]-box[0][1]),image_height\n",
        "\n",
        "  horiz_boxes.append([x_h,y_h,x_h+width_h,y_h+height_h])\n",
        "  vert_boxes.append([x_v,y_v,x_v+width_v,y_v+height_v])\n",
        "\n",
        "  cv2.rectangle(im,(x_h,y_h), (x_h+width_h,y_h+height_h),(0,0,255),1)\n",
        "  cv2.rectangle(im,(x_v,y_v), (x_v+width_v,y_v+height_v),(0,255,0),1)\n",
        ""
      ],
      "metadata": {
        "id": "GwcAAe-wccnF"
      },
      "execution_count": 41,
      "outputs": []
    },
    {
      "cell_type": "code",
      "source": [
        "cv2.imwrite('horiz_vert.jpg',im)"
      ],
      "metadata": {
        "colab": {
          "base_uri": "https://localhost:8080/"
        },
        "id": "7UxFGhMkccph",
        "outputId": "071472c7-ff61-44e2-d6f8-5e17669d0783"
      },
      "execution_count": 42,
      "outputs": [
        {
          "output_type": "execute_result",
          "data": {
            "text/plain": [
              "True"
            ]
          },
          "metadata": {},
          "execution_count": 42
        }
      ]
    },
    {
      "cell_type": "markdown",
      "source": [
        "## Non-Max Suppression"
      ],
      "metadata": {
        "id": "ekVFvJrM4ROL"
      }
    },
    {
      "cell_type": "code",
      "source": [
        "horiz_out = tf.image.non_max_suppression(\n",
        "    horiz_boxes,\n",
        "    probabilities,\n",
        "    max_output_size = 1000,\n",
        "    iou_threshold=0.1,\n",
        "    score_threshold=float('-inf'),\n",
        "    name=None\n",
        ")"
      ],
      "metadata": {
        "id": "4LVSSB2fcoe7"
      },
      "execution_count": 45,
      "outputs": []
    },
    {
      "cell_type": "code",
      "source": [
        "horiz_lines = np.sort(np.array(horiz_out))\n",
        "print(horiz_lines)"
      ],
      "metadata": {
        "colab": {
          "base_uri": "https://localhost:8080/"
        },
        "id": "pOboYpGnccr2",
        "outputId": "5c7c154a-c82a-4020-ccd4-9d9f1c0f4fc4"
      },
      "execution_count": 46,
      "outputs": [
        {
          "output_type": "stream",
          "name": "stdout",
          "text": [
            "[ 1  7 10 13 16 19 26 28 31 35 38]\n"
          ]
        }
      ]
    },
    {
      "cell_type": "code",
      "source": [
        "im_nms = image_cv.copy()"
      ],
      "metadata": {
        "id": "pfxHrn3iccyK"
      },
      "execution_count": 47,
      "outputs": []
    },
    {
      "cell_type": "code",
      "source": [
        "for val in horiz_lines:\n",
        "  cv2.rectangle(im_nms, (int(horiz_boxes[val][0]),int(horiz_boxes[val][1])), (int(horiz_boxes[val][2]),int(horiz_boxes[val][3])),(0,0,255),1)\n",
        ""
      ],
      "metadata": {
        "id": "68PCHfmZcc0L"
      },
      "execution_count": 48,
      "outputs": []
    },
    {
      "cell_type": "code",
      "source": [
        "cv2.imwrite('im_nms.jpg',im_nms)"
      ],
      "metadata": {
        "colab": {
          "base_uri": "https://localhost:8080/"
        },
        "id": "Z8r9qpiAcc2X",
        "outputId": "3672f28e-8e6d-4fad-e136-3a558eb43dd6"
      },
      "execution_count": 49,
      "outputs": [
        {
          "output_type": "execute_result",
          "data": {
            "text/plain": [
              "True"
            ]
          },
          "metadata": {},
          "execution_count": 49
        }
      ]
    },
    {
      "cell_type": "code",
      "source": [
        "vert_out = tf.image.non_max_suppression(\n",
        "    vert_boxes,\n",
        "    probabilities,\n",
        "    max_output_size = 1000,\n",
        "    iou_threshold=0.1,\n",
        "    score_threshold=float('-inf'),\n",
        "    name=None\n",
        ")"
      ],
      "metadata": {
        "id": "mKgPuh7rcc4s"
      },
      "execution_count": 50,
      "outputs": []
    },
    {
      "cell_type": "code",
      "source": [
        "print(vert_out)"
      ],
      "metadata": {
        "colab": {
          "base_uri": "https://localhost:8080/"
        },
        "id": "GBpKsImVcc6p",
        "outputId": "5e810d13-9a7a-4cbc-a0dc-e2f95eef1d12"
      },
      "execution_count": 51,
      "outputs": [
        {
          "output_type": "stream",
          "name": "stdout",
          "text": [
            "tf.Tensor([31 13 38 26 32  0], shape=(6,), dtype=int32)\n"
          ]
        }
      ]
    },
    {
      "cell_type": "code",
      "source": [
        "vert_lines = np.sort(np.array(vert_out))\n",
        "print(vert_lines)"
      ],
      "metadata": {
        "colab": {
          "base_uri": "https://localhost:8080/"
        },
        "id": "K0lBh-yz5YLp",
        "outputId": "1302a718-2ee6-40d6-a247-fd3970cb0269"
      },
      "execution_count": 52,
      "outputs": [
        {
          "output_type": "stream",
          "name": "stdout",
          "text": [
            "[ 0 13 26 31 32 38]\n"
          ]
        }
      ]
    },
    {
      "cell_type": "code",
      "source": [
        "for val in vert_lines:\n",
        "  cv2.rectangle(im_nms, (int(vert_boxes[val][0]),int(vert_boxes[val][1])), (int(vert_boxes[val][2]),int(vert_boxes[val][3])),(255,0,0),1)\n",
        ""
      ],
      "metadata": {
        "id": "WqsLm0L_cc84"
      },
      "execution_count": 53,
      "outputs": []
    },
    {
      "cell_type": "code",
      "source": [
        "cv2.imwrite('im_nms.jpg',im_nms)"
      ],
      "metadata": {
        "colab": {
          "base_uri": "https://localhost:8080/"
        },
        "id": "xZOEa7lpcdGM",
        "outputId": "f27434d2-a455-4232-87ca-f0c59b45f952"
      },
      "execution_count": 54,
      "outputs": [
        {
          "output_type": "execute_result",
          "data": {
            "text/plain": [
              "True"
            ]
          },
          "metadata": {},
          "execution_count": 54
        }
      ]
    },
    {
      "cell_type": "markdown",
      "source": [
        "## Convert to CSV"
      ],
      "metadata": {
        "id": "116eBUrO93-i"
      }
    },
    {
      "cell_type": "code",
      "source": [
        "\n",
        "\n",
        "out_array = [[\"\" for i in range(len(vert_lines))] for j in range(len(horiz_lines))]\n",
        "print(np.array(out_array).shape)\n",
        "print(out_array)"
      ],
      "metadata": {
        "colab": {
          "base_uri": "https://localhost:8080/"
        },
        "id": "HRQzwVUTcdIq",
        "outputId": "105de21c-35ef-48fb-b7c2-6683963be3a3"
      },
      "execution_count": 55,
      "outputs": [
        {
          "output_type": "stream",
          "name": "stdout",
          "text": [
            "(11, 6)\n",
            "[['', '', '', '', '', ''], ['', '', '', '', '', ''], ['', '', '', '', '', ''], ['', '', '', '', '', ''], ['', '', '', '', '', ''], ['', '', '', '', '', ''], ['', '', '', '', '', ''], ['', '', '', '', '', ''], ['', '', '', '', '', ''], ['', '', '', '', '', ''], ['', '', '', '', '', '']]\n"
          ]
        }
      ]
    },
    {
      "cell_type": "code",
      "source": [
        "\n",
        "unordered_boxes = []\n",
        "\n",
        "for i in vert_lines:\n",
        "  print(vert_boxes[i])\n",
        "  unordered_boxes.append(vert_boxes[i][0])"
      ],
      "metadata": {
        "colab": {
          "base_uri": "https://localhost:8080/"
        },
        "id": "sSrupaRZIAk_",
        "outputId": "9609d531-d12f-415c-d127-32b3f1b6f81e"
      },
      "execution_count": 56,
      "outputs": [
        {
          "output_type": "stream",
          "name": "stdout",
          "text": [
            "[22, 0, 120, 290]\n",
            "[427, 0, 490, 290]\n",
            "[900, 0, 963, 290]\n",
            "[660, 0, 728, 290]\n",
            "[1136, 0, 1200, 290]\n",
            "[1371, 0, 1427, 290]\n"
          ]
        }
      ]
    },
    {
      "cell_type": "code",
      "source": [
        "ordered_boxes = np.argsort(unordered_boxes)\n",
        "print(ordered_boxes)"
      ],
      "metadata": {
        "colab": {
          "base_uri": "https://localhost:8080/"
        },
        "id": "lRMlVNh_HuJV",
        "outputId": "dfa2a77a-c4e3-477a-f8ee-2a9a9d878629"
      },
      "execution_count": 57,
      "outputs": [
        {
          "output_type": "stream",
          "name": "stdout",
          "text": [
            "[0 1 3 2 4 5]\n"
          ]
        }
      ]
    },
    {
      "cell_type": "code",
      "source": [
        "def intersection(box_1, box_2):\n",
        "  return [box_2[0], box_1[1],box_2[2], box_1[3]]"
      ],
      "metadata": {
        "id": "AHHaxKUuC6jQ"
      },
      "execution_count": 58,
      "outputs": []
    },
    {
      "cell_type": "code",
      "source": [
        "def iou(box_1, box_2):\n",
        "\n",
        "  x_1 = max(box_1[0], box_2[0])\n",
        "  y_1 = max(box_1[1], box_2[1])\n",
        "  x_2 = min(box_1[2], box_2[2])\n",
        "  y_2 = min(box_1[3], box_2[3])\n",
        "\n",
        "  inter = abs(max((x_2 - x_1, 0)) * max((y_2 - y_1), 0))\n",
        "  if inter == 0:\n",
        "      return 0\n",
        "\n",
        "  box_1_area = abs((box_1[2] - box_1[0]) * (box_1[3] - box_1[1]))\n",
        "  box_2_area = abs((box_2[2] - box_2[0]) * (box_2[3] - box_2[1]))\n",
        "\n",
        "  return inter / float(box_1_area + box_2_area - inter)"
      ],
      "metadata": {
        "id": "fDVb0DkxJSIf"
      },
      "execution_count": 59,
      "outputs": []
    },
    {
      "cell_type": "code",
      "source": [
        "for i in range(len(horiz_lines)):\n",
        "  for j in range(len(vert_lines)):\n",
        "    resultant = intersection(horiz_boxes[horiz_lines[i]], vert_boxes[vert_lines[ordered_boxes[j]]] )\n",
        "\n",
        "    for b in range(len(boxes)):\n",
        "      the_box = [boxes[b][0][0],boxes[b][0][1],boxes[b][2][0],boxes[b][2][1]]\n",
        "      if(iou(resultant,the_box)>0.1):\n",
        "        out_array[i][j] = texts[b]"
      ],
      "metadata": {
        "id": "LWGhCwg6BIoL"
      },
      "execution_count": 60,
      "outputs": []
    },
    {
      "cell_type": "code",
      "source": [
        "out_array=np.array(out_array)"
      ],
      "metadata": {
        "id": "c4tEY9LGNIM9"
      },
      "execution_count": 61,
      "outputs": []
    },
    {
      "cell_type": "code",
      "source": [
        "out_array"
      ],
      "metadata": {
        "id": "_ekto4-Ymxv2",
        "outputId": "52bdcbd5-8d3c-41f0-c86b-dd97b6a48f63",
        "colab": {
          "base_uri": "https://localhost:8080/"
        }
      },
      "execution_count": 62,
      "outputs": [
        {
          "output_type": "execute_result",
          "data": {
            "text/plain": [
              "array([['References', 'MSE', 'RMSE', 'MAE', 'MAPE', 'R2'],\n",
              "       ['Nayak et al.,2012', '', '', '', '4.4130', ''],\n",
              "       ['Liu et al.2018', '1.0600', '1.0296', '', '', '99.6'],\n",
              "       ['Abhishek et al.2012', '2.7100', '1.6460', '', '', ''],\n",
              "       ['(Suksri and Kimpan,2016)', '0.0212', '0.1476', '', '', ''],\n",
              "       ['Yu et al.2016', '0.0281', '0.1676', '0.1062', '0.0279', ''],\n",
              "       ['Rasel et al.2017', '10.956', '3.3100', '2.2900', '', ''],\n",
              "       ['Ahmed,2015', '', '', '', '', '93.36'],\n",
              "       ['Mohammadi et al.,2015', '0.4501', '0.6709', '', '0.5203',\n",
              "        '98.77'],\n",
              "       ['Hossain et al.,2015', '1.9044', '1.3800', '', '', ''],\n",
              "       ['Liu et al.2015', '', '', '', '', '91.50']], dtype='<U24')"
            ]
          },
          "metadata": {},
          "execution_count": 62
        }
      ]
    },
    {
      "cell_type": "code",
      "source": [
        "pd.DataFrame(out_array).to_csv('sample.csv')"
      ],
      "metadata": {
        "id": "D8UdX80wBI9V"
      },
      "execution_count": 63,
      "outputs": []
    },
    {
      "cell_type": "markdown",
      "source": [
        "## Merging Cells"
      ],
      "metadata": {
        "id": "E693Ela3qhLx"
      }
    },
    {
      "cell_type": "code",
      "source": [
        "current_bank=['']*len(out_array[0,:])\n",
        "print(current_bank)"
      ],
      "metadata": {
        "colab": {
          "base_uri": "https://localhost:8080/"
        },
        "id": "XNcX7fEWPDfw",
        "outputId": "06cb1313-e8b8-4252-d305-f03fc03d14ed"
      },
      "execution_count": null,
      "outputs": [
        {
          "output_type": "stream",
          "name": "stdout",
          "text": [
            "['', '', '', '', '', '', '']\n"
          ]
        }
      ]
    },
    {
      "cell_type": "code",
      "source": [
        "def empty(arr):\n",
        "  for i in arr:\n",
        "    if i=='':\n",
        "      return True\n",
        "  return False"
      ],
      "metadata": {
        "id": "TTF5ojcCQJKR"
      },
      "execution_count": null,
      "outputs": []
    },
    {
      "cell_type": "code",
      "source": [
        "cleaned_array=[]"
      ],
      "metadata": {
        "id": "3w1amnEXSVSB"
      },
      "execution_count": null,
      "outputs": []
    },
    {
      "cell_type": "code",
      "source": [
        "for i in range(len(out_array)):\n",
        "  if not empty(out_array[i]):\n",
        "    current_bank=[out_array[i][j] for j in range(len(out_array[i]))]\n",
        "    cleaned_array.append(current_bank)\n",
        "    not_empty=True\n",
        "  else:\n",
        "    for j in range(len(out_array[i])):\n",
        "      current_bank[j]+=' '+out_array[i][j]\n",
        "    print('-->',current_bank)\n",
        "cleaned_array=np.array(cleaned_array)\n",
        "print(cleaned_array)"
      ],
      "metadata": {
        "id": "W_q9e2EkPepQ",
        "colab": {
          "base_uri": "https://localhost:8080/"
        },
        "outputId": "fba25f38-1e56-45c3-88fe-2211d38d4dca"
      },
      "execution_count": null,
      "outputs": [
        {
          "output_type": "stream",
          "name": "stdout",
          "text": [
            "[['Model' 'Updates (105)' 'Epochs' 'Hours' 'GPU' 'Train NLL' 'Dev.NLL']\n",
            " ['RNNenc-30' '8.46' '6.4' '109' 'TITAN BLACK' '28.1' '53.0']\n",
            " ['RNNenc-50' '6.00' '4.5' '108' 'Quadro K-6000' '44.0' '43.6']\n",
            " ['RNNsearch-30' '4.71' '3.6' '113' 'TITAN BLACK' '26.7' '47.2']\n",
            " ['RNNsearch-50' '2.88' '2.2' '111' 'Quadro K-6000' '40.7' '38.1']\n",
            " ['RNNsearch-50*' '6.67' '5.0' '252' 'Quadro K-6000' '36.7' '35.2']]\n"
          ]
        }
      ]
    },
    {
      "cell_type": "code",
      "source": [
        "pd.DataFrame(cleaned_array).to_csv('cleaned.csv')"
      ],
      "metadata": {
        "id": "RZltyMmD_E68"
      },
      "execution_count": null,
      "outputs": []
    },
    {
      "cell_type": "markdown",
      "source": [
        "# Convert to OWL Format"
      ],
      "metadata": {
        "id": "M9rH5mX9Mx7g"
      }
    },
    {
      "cell_type": "markdown",
      "source": [
        "# **CSV to Text**"
      ],
      "metadata": {
        "id": "SqFdbM634H5w"
      }
    },
    {
      "cell_type": "code",
      "source": [
        "import  jpype\n",
        "import  asposecells\n",
        "\n",
        "\n",
        "jpype.startJVM()\n",
        "from asposecells.api import Workbook\n",
        "\n",
        "workbook = Workbook(\"/content/sample.csv\")\n",
        "workbook.save(\"Output.docx\")\n",
        "jpype.shutdownJVM()"
      ],
      "metadata": {
        "id": "949GB9T1_Go7",
        "colab": {
          "base_uri": "https://localhost:8080/",
          "height": 373
        },
        "outputId": "d3bf9a55-8248-459c-8eb6-c2c67e5a84b3"
      },
      "execution_count": null,
      "outputs": [
        {
          "output_type": "error",
          "ename": "ModuleNotFoundError",
          "evalue": "ignored",
          "traceback": [
            "\u001b[0;31m---------------------------------------------------------------------------\u001b[0m",
            "\u001b[0;31mModuleNotFoundError\u001b[0m                       Traceback (most recent call last)",
            "\u001b[0;32m<ipython-input-52-0cc478de6e7d>\u001b[0m in \u001b[0;36m<module>\u001b[0;34m\u001b[0m\n\u001b[0;32m----> 1\u001b[0;31m \u001b[0;32mimport\u001b[0m  \u001b[0mjpype\u001b[0m\u001b[0;34m\u001b[0m\u001b[0;34m\u001b[0m\u001b[0m\n\u001b[0m\u001b[1;32m      2\u001b[0m \u001b[0;32mimport\u001b[0m  \u001b[0masposecells\u001b[0m\u001b[0;34m\u001b[0m\u001b[0;34m\u001b[0m\u001b[0m\n\u001b[1;32m      3\u001b[0m \u001b[0;34m\u001b[0m\u001b[0m\n\u001b[1;32m      4\u001b[0m \u001b[0;34m\u001b[0m\u001b[0m\n\u001b[1;32m      5\u001b[0m \u001b[0mjpype\u001b[0m\u001b[0;34m.\u001b[0m\u001b[0mstartJVM\u001b[0m\u001b[0;34m(\u001b[0m\u001b[0;34m)\u001b[0m\u001b[0;34m\u001b[0m\u001b[0;34m\u001b[0m\u001b[0m\n",
            "\u001b[0;31mModuleNotFoundError\u001b[0m: No module named 'jpype'",
            "",
            "\u001b[0;31m---------------------------------------------------------------------------\u001b[0;32m\nNOTE: If your import is failing due to a missing package, you can\nmanually install dependencies using either !pip or !apt.\n\nTo view examples of installing some common dependencies, click the\n\"Open Examples\" button below.\n\u001b[0;31m---------------------------------------------------------------------------\u001b[0m\n"
          ],
          "errorDetails": {
            "actions": [
              {
                "action": "open_url",
                "actionText": "Open Examples",
                "url": "/notebooks/snippets/importing_libraries.ipynb"
              }
            ]
          }
        }
      ]
    },
    {
      "cell_type": "code",
      "source": [],
      "metadata": {
        "id": "eIGJDS7u4DLS"
      },
      "execution_count": null,
      "outputs": []
    },
    {
      "cell_type": "code",
      "source": [],
      "metadata": {
        "id": "ziHBaaCn4DN2"
      },
      "execution_count": null,
      "outputs": []
    },
    {
      "cell_type": "markdown",
      "source": [
        "# Brighten Image (For Anyone dealing with PDFs created from scanned images)"
      ],
      "metadata": {
        "id": "FIzj02CHqce7"
      }
    },
    {
      "cell_type": "code",
      "source": [
        "from PIL import Image, ImageEnhance\n",
        "\n",
        "#read the image\n",
        "im = Image.open(\"ext_im.jpg\")\n",
        "\n",
        "#image brightness enhancer\n",
        "enhancer = ImageEnhance.Brightness(im)\n",
        "\n",
        "factor = 1 #gives original image\n",
        "im_output = enhancer.enhance(factor)\n",
        "im_output.save('ext_im-1.jpg')\n",
        "\n",
        "factor = 1.5## brightens the image\n",
        "im_output = enhancer.enhance(factor)\n",
        "im_output.save('ext_im-2.jpg')\n"
      ],
      "metadata": {
        "id": "vnzqj5q34DQk"
      },
      "execution_count": null,
      "outputs": []
    },
    {
      "cell_type": "code",
      "source": [],
      "metadata": {
        "id": "arQSfE2br7YT"
      },
      "execution_count": null,
      "outputs": []
    }
  ],
  "metadata": {
    "accelerator": "GPU",
    "colab": {
      "collapsed_sections": [
        "E693Ela3qhLx",
        "SqFdbM634H5w",
        "FIzj02CHqce7"
      ],
      "provenance": [],
      "include_colab_link": true
    },
    "kernelspec": {
      "display_name": "Python 3",
      "name": "python3"
    },
    "language_info": {
      "name": "python"
    }
  },
  "nbformat": 4,
  "nbformat_minor": 0
}